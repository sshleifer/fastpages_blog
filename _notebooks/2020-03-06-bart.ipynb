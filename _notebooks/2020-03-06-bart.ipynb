{
 "cells": [
  {
   "cell_type": "markdown",
   "metadata": {},
   "source": [
    "# Bart WalkThrough\n",
    "> A journey through the forward pass\n",
    "\n",
    "- toc: true \n",
    "- badges: true\n",
    "- comments: true\n",
    "- categories: [jupyter]\n",
    "- image: images/chart-preview.png"
   ]
  },
  {
   "cell_type": "markdown",
   "metadata": {},
   "source": [
    "### Seq2Seq Pretraining\n",
    "In October 2019, teams from Microsoft, Google and Facebook independently published three new transformer papers: UniLM, T5 and Bart. All three papers analyze found, in general that they achieve better downstream performance if they (a) replace Bert's bidirectional architecture with a seq2seq architecture and (b) Bert's fill-in-the blank cloze task with a more complicated mix of pretraining tasks. It's a fun game to try to match which of the following quotes from the abstract map to which paper:\n",
    "\n",
    "\n",
    "1. \n",
    "> While many modern approaches to transfer learning for NLP use a Transformer architecture consisting of only a single “stack” (e.g. for language modeling [GPT2]  or classification and span prediction [BERT]), we found that using a standard encoder-decoder structure achieved good results on both generative and classification tasks. \n",
    "\n",
    "2. \n",
    "> The model is pre-trained using three types of language modeling tasks: unidirectional, bidirectional, and sequence-to-sequence prediction.\n",
    "\n",
    "3. \n",
    "> We present a denoising autoencoder for pretraining sequence to sequence models, ... it uses a standard Transformer-based neural machine translation architecture.\n",
    "\n",
    "Answers: [^1].\n",
    "\n",
    " [^1]: *Answers: (T5, Oct 24) , (UniLM, Oct. 15) , (Bart, Oct. 29)"
   ]
  },
  {
   "cell_type": "markdown",
   "metadata": {},
   "source": [
    "If you got that right you are very lucky indeed!"
   ]
  },
  {
   "cell_type": "markdown",
   "metadata": {
    "ExecuteTime": {
     "end_time": "2020-03-07T21:17:48.798208Z",
     "start_time": "2020-03-07T21:17:48.793226Z"
    }
   },
   "source": [
    "So lets dig a bit deeper on this big Seq2Seq idea, then dive into some interesting parts of the code!"
   ]
  },
  {
   "cell_type": "markdown",
   "metadata": {},
   "source": [
    "### Big Idea: Bidirectional Encoder, Left-To-Right Decoder\n",
    "Bert is pretrained to try to predict mask tokens, and uses the whole sequence to get enough info to make a good guess. This is good for tasks where the prediction at position `i` can depend on information from positions after `i`, but suboptimal for tasks where you are not, like text generation, where you generate the next word conditional on the words you have seen BEFORE.\n",
    "\n",
    "In the code, bert's \"Fully Visible\" `attention_mask` is boring:"
   ]
  },
  {
   "cell_type": "markdown",
   "metadata": {
    "ExecuteTime": {
     "end_time": "2020-03-08T04:05:02.223656Z",
     "start_time": "2020-03-08T04:05:02.096864Z"
    }
   },
   "source": [
    "![](./fully_visible_attn_mask_v2.png)"
   ]
  },
  {
   "cell_type": "markdown",
   "metadata": {
    "ExecuteTime": {
     "end_time": "2020-03-07T21:44:38.925844Z",
     "start_time": "2020-03-07T21:44:38.920749Z"
    }
   },
   "source": [
    " GPT2, meanwhile, is pretrained to predict the next word.\n",
    "This makes it good at generation tasks, where there aren't future tokens to consider, but suboptimal for other downstream tasks where the causal mask provides no benefit.\n",
    "\n",
    "Here is the attention mask for GPT2, white squares in y2, x3 show that the prediction for timestep 2 does not depend on the input at timestep 3."
   ]
  },
  {
   "cell_type": "markdown",
   "metadata": {
    "ExecuteTime": {
     "end_time": "2020-03-08T04:04:22.367554Z",
     "start_time": "2020-03-08T04:04:22.197664Z"
    }
   },
   "source": [
    "![](./gpt2_simple_mask.jpg)"
   ]
  },
  {
   "cell_type": "markdown",
   "metadata": {},
   "source": [
    "Our new friends get the best of both worlds:\n",
    "\n",
    "The encoder is bidirectional  - each token's attention can attend to every other token in the input sequence, while the decoder, which will ultimately have to perform generation, is causal like GPT2.\n",
    "\n",
    "We can think about this attention pattern as smushing together our previous two attention masks, or \"Causal Mask  with a fully visible prefix\" in fancier terms.[^4]\n",
    "\n",
    "[^4]: The indices dont line up perfectly for the smush to work, but tokens 1 and 2 are the fully visible prefix (or the input to the encoder) and tokens 3,4,5 are the causally masked suffix (or inputs to the decoder). In summarization terms, you could imagine tokens 1 and 2 as the article, and we generate tokens 3-5 auto-regressively."
   ]
  },
  {
   "cell_type": "markdown",
   "metadata": {
    "ExecuteTime": {
     "end_time": "2020-03-07T21:26:57.308704Z",
     "start_time": "2020-03-07T21:26:57.156642Z"
    }
   },
   "source": [
    "\n",
    "![](./t5_mask_diagram.png)\n"
   ]
  },
  {
   "cell_type": "markdown",
   "metadata": {},
   "source": [
    "This attention pattern is very well suited to summarization and other conditional generation tasks.  You are allowed to attend to the whole document, but as you write your summary, one word at a time, you need only consider what you've already written. The numbers confirm this: all the new fancy guys do a lot better than the old less-fancy guys."
   ]
  },
  {
   "cell_type": "code",
   "execution_count": 36,
   "metadata": {
    "ExecuteTime": {
     "end_time": "2020-03-07T21:09:05.584452Z",
     "start_time": "2020-03-07T21:09:05.560477Z"
    }
   },
   "outputs": [
    {
     "data": {
      "text/html": [
       "<div>\n",
       "<style scoped>\n",
       "    .dataframe tbody tr th:only-of-type {\n",
       "        vertical-align: middle;\n",
       "    }\n",
       "\n",
       "    .dataframe tbody tr th {\n",
       "        vertical-align: top;\n",
       "    }\n",
       "\n",
       "    .dataframe thead th {\n",
       "        text-align: right;\n",
       "    }\n",
       "</style>\n",
       "<table border=\"1\" class=\"dataframe\">\n",
       "  <thead>\n",
       "    <tr style=\"text-align: right;\">\n",
       "      <th></th>\n",
       "      <th>CNNDM Rouge 2 score</th>\n",
       "    </tr>\n",
       "    <tr>\n",
       "      <th>Paper</th>\n",
       "      <th></th>\n",
       "    </tr>\n",
       "  </thead>\n",
       "  <tbody>\n",
       "    <tr>\n",
       "      <th>Bart</th>\n",
       "      <td>21.28</td>\n",
       "    </tr>\n",
       "    <tr>\n",
       "      <th>UniLM</th>\n",
       "      <td>20.30</td>\n",
       "    </tr>\n",
       "    <tr>\n",
       "      <th>BertSumABS</th>\n",
       "      <td>19.39</td>\n",
       "    </tr>\n",
       "    <tr>\n",
       "      <th>t5-base</th>\n",
       "      <td>20.34</td>\n",
       "    </tr>\n",
       "    <tr>\n",
       "      <th>t5 11B</th>\n",
       "      <td>21.55</td>\n",
       "    </tr>\n",
       "    <tr>\n",
       "      <th>TransformerAbs (2018)</th>\n",
       "      <td>17.76</td>\n",
       "    </tr>\n",
       "  </tbody>\n",
       "</table>\n",
       "</div>"
      ],
      "text/plain": [
       "                        CNNDM Rouge 2 score \n",
       "Paper                                       \n",
       "Bart                                   21.28\n",
       "UniLM                                  20.30\n",
       "BertSumABS                             19.39\n",
       "t5-base                                20.34\n",
       "t5 11B                                 21.55\n",
       "TransformerAbs (2018)                  17.76"
      ]
     },
     "execution_count": 36,
     "metadata": {},
     "output_type": "execute_result"
    }
   ],
   "source": [
    "#collapse-hide \n",
    "import pandas as pd\n",
    "pd.read_csv('tab1.csv', index_col=0)"
   ]
  },
  {
   "cell_type": "markdown",
   "metadata": {
    "ExecuteTime": {
     "end_time": "2020-03-07T20:22:23.597072Z",
     "start_time": "2020-03-07T20:22:23.524178Z"
    }
   },
   "source": [
    "<!-- I start with this not to say that the researchers are lame, but that they were all discovering a very cool idea at the same time. In the following table, you can see that, at least for summarization, it is important to pretrain with a bidirectional encoder and causal decoder: (The UniLM `prefix_lm` is equivalent [^3]) -->\n",
    "\n",
    "`BertSumABS` [^2] , exploits the Seq2Seq architecture but doesn't pretrain the decoder.\n",
    "Also note that t5-11b is 22x bigger than Bart), and pretraining objectives.\n",
    "\n",
    "Bart tries out crazy pretraining tasks that you can only do with a seq2seq architecture. Since \"Inputs to the encoder need not be aligned with decoder outputs, allowing arbitary noise transformations.\" They invent a pretraining task called Text Infilling, where you\n",
    "replace a **span** of text with a single mask token. This span can be of any length, so the model also must learn how many tokens to generate.\n",
    "\n",
    "There is also another trick in Bart: each decoder layer performs cross-attention over the final hidden state of the encoder output. This presumably nudges Bart towards generating summaries that are closely connected to the original (encoded) text."
   ]
  },
  {
   "cell_type": "markdown",
   "metadata": {
    "ExecuteTime": {
     "end_time": "2020-03-07T22:30:44.859890Z",
     "start_time": "2020-03-07T22:30:44.839517Z"
    }
   },
   "source": [
    "#### Awkward Transition to Eng\n",
    "\n",
    "Shortly after these papers were released our `transformers` users started asking for us to make them available in the repo, especially Bart. And now, a few months later, it's demo time!\n",
    "\n"
   ]
  },
  {
   "cell_type": "markdown",
   "metadata": {},
   "source": [
    "### Demo of  `transformers.BartForConditionalGeneration`"
   ]
  },
  {
   "cell_type": "markdown",
   "metadata": {},
   "source": [
    "#### imports"
   ]
  },
  {
   "cell_type": "code",
   "execution_count": 77,
   "metadata": {
    "ExecuteTime": {
     "end_time": "2020-03-07T22:48:56.660346Z",
     "start_time": "2020-03-07T22:48:56.653342Z"
    },
    "collapsed": true
   },
   "outputs": [
    {
     "data": {
      "text/plain": [
       "' (CNN)The Palestinian Authority officially became the 123rd member of the International Criminal Court on Wednesday, a step that gives the court jurisdiction over alleged crimes in Palestinian territories. The formal accession was marked with a ceremony at The Hague, in the Netherlands, where the court is based. The Palestinians signed the ICC\\'s founding Rome Statute in January, when they also accepted its jurisdiction over alleged crimes committed \"in the occupied Palestinian territory, including East Jerusalem, since June 13, 2014.\" Later that month, the ICC opened a preliminary examination into the situation in Palestinian territories, paving the way for possible war crimes investigations against Israelis. As members of the court, Palestinians may be subject to counter-charges as well. Israel and the United States, neither of which is an ICC member, opposed the Palestinians\\' efforts to join the body. But Palestinian Foreign Minister Riad al-Malki, speaking at Wednesday\\'s ceremony, said it was a move toward greater justice. \"As Palestine formally becomes a State Party to the Rome Statute today, the world is also a step closer to ending a long era of impunity and injustice,\" he said, according to an ICC news release. \"Indeed, today brings us closer to our shared goals of justice and peace.\" Judge Kuniko Ozaki, a vice president of the ICC, said acceding to the treaty was just the first step for the Palestinians. \"As the Rome Statute today enters into force for the State of Palestine, Palestine acquires all the rights as well as responsibilities that come with being a State Party to the Statute. These are substantive commitments, which cannot be taken lightly,\" she said. Rights group Human Rights Watch welcomed the development. \"Governments seeking to penalize Palestine for joining the ICC should immediately end their pressure, and countries that support universal acceptance of the court\\'s treaty should speak out to welcome its membership,\" said Balkees Jarrah, international justice counsel for the group. \"What\\'s objectionable is the attempts to undermine international justice, not Palestine\\'s decision to join a treaty to which over 100 countries around the world are members.\" In January, when the preliminary ICC examination was opened, Israeli Prime Minister Benjamin Netanyahu described it as an outrage, saying the court was overstepping its boundaries. The United States also said it \"strongly\" disagreed with the court\\'s decision. \"As we have said repeatedly, we do not believe that Palestine is a state and therefore we do not believe that it is eligible to join the ICC,\" the State Department said in a statement. It urged the warring sides to resolve their differences through direct negotiations. \"We will continue to oppose actions against Israel at the ICC as counterproductive to the cause of peace,\" it said. But the ICC begs to differ with the definition of a state for its purposes and refers to the territories as \"Palestine.\" While a preliminary examination is not a formal investigation, it allows the court to review evidence and determine whether to investigate suspects on both sides. Prosecutor Fatou Bensouda said her office would \"conduct its analysis in full independence and impartiality.\" The war between Israel and Hamas militants in Gaza last summer left more than 2,000 people dead. The inquiry will include alleged war crimes committed since June. The International Criminal Court was set up in 2002 to prosecute genocide, crimes against humanity and war crimes. CNN\\'s Vasco Cotovio, Kareem Khadder and Faith Karimi contributed to this report.'"
      ]
     },
     "execution_count": 77,
     "metadata": {},
     "output_type": "execute_result"
    }
   ],
   "source": [
    "#collapse-hide\n",
    "import torch\n",
    "torch_device = 'cuda' if torch.cuda.is_available() else 'cpu'\n",
    "LONG_ARTICLE = ' (CNN)The Palestinian Authority officially became the 123rd member of the International Criminal Court on Wednesday, a step that gives the court jurisdiction over alleged crimes in Palestinian territories. The formal accession was marked with a ceremony at The Hague, in the Netherlands, where the court is based. The Palestinians signed the ICC\\'s founding Rome Statute in January, when they also accepted its jurisdiction over alleged crimes committed \"in the occupied Palestinian territory, including East Jerusalem, since June 13, 2014.\" Later that month, the ICC opened a preliminary examination into the situation in Palestinian territories, paving the way for possible war crimes investigations against Israelis. As members of the court, Palestinians may be subject to counter-charges as well. Israel and the United States, neither of which is an ICC member, opposed the Palestinians\\' efforts to join the body. But Palestinian Foreign Minister Riad al-Malki, speaking at Wednesday\\'s ceremony, said it was a move toward greater justice. \"As Palestine formally becomes a State Party to the Rome Statute today, the world is also a step closer to ending a long era of impunity and injustice,\" he said, according to an ICC news release. \"Indeed, today brings us closer to our shared goals of justice and peace.\" Judge Kuniko Ozaki, a vice president of the ICC, said acceding to the treaty was just the first step for the Palestinians. \"As the Rome Statute today enters into force for the State of Palestine, Palestine acquires all the rights as well as responsibilities that come with being a State Party to the Statute. These are substantive commitments, which cannot be taken lightly,\" she said. Rights group Human Rights Watch welcomed the development. \"Governments seeking to penalize Palestine for joining the ICC should immediately end their pressure, and countries that support universal acceptance of the court\\'s treaty should speak out to welcome its membership,\" said Balkees Jarrah, international justice counsel for the group. \"What\\'s objectionable is the attempts to undermine international justice, not Palestine\\'s decision to join a treaty to which over 100 countries around the world are members.\" In January, when the preliminary ICC examination was opened, Israeli Prime Minister Benjamin Netanyahu described it as an outrage, saying the court was overstepping its boundaries. The United States also said it \"strongly\" disagreed with the court\\'s decision. \"As we have said repeatedly, we do not believe that Palestine is a state and therefore we do not believe that it is eligible to join the ICC,\" the State Department said in a statement. It urged the warring sides to resolve their differences through direct negotiations. \"We will continue to oppose actions against Israel at the ICC as counterproductive to the cause of peace,\" it said. But the ICC begs to differ with the definition of a state for its purposes and refers to the territories as \"Palestine.\" While a preliminary examination is not a formal investigation, it allows the court to review evidence and determine whether to investigate suspects on both sides. Prosecutor Fatou Bensouda said her office would \"conduct its analysis in full independence and impartiality.\" The war between Israel and Hamas militants in Gaza last summer left more than 2,000 people dead. The inquiry will include alleged war crimes committed since June. The International Criminal Court was set up in 2002 to prosecute genocide, crimes against humanity and war crimes. CNN\\'s Vasco Cotovio, Kareem Khadder and Faith Karimi contributed to this report.' \n",
    "LONG_ARTICLE"
   ]
  },
  {
   "cell_type": "code",
   "execution_count": 63,
   "metadata": {
    "ExecuteTime": {
     "end_time": "2020-03-07T22:39:52.854851Z",
     "start_time": "2020-03-07T22:39:25.900712Z"
    }
   },
   "outputs": [
    {
     "data": {
      "text/plain": [
       "\"<s>The Palestinian Authority becomes the 123rd member of the International Criminal Court. The move gives the court jurisdiction over alleged crimes in Palestinian territories. Israel and the United States opposed the Palestinians' efforts to join the body. But Palestinian Foreign Minister Riad al-Malki said it was a move toward greater justice.\""
      ]
     },
     "execution_count": 63,
     "metadata": {},
     "output_type": "execute_result"
    }
   ],
   "source": [
    "tokenizer = BartTokenizer.from_pretrained('bart-large-cnn')\n",
    "article_input_ids = tokenizer.batch_encode_plus([LONG_ARTICLE], return_tensors='pt')['input_ids'].to(torch_device)\n",
    "model = BartForConditionalGeneration.from_pretrained('bart-large-cnn')\n",
    "summary_ids = model.generate(article_input_ids, num_beams=4, length_penalty=2.0,\n",
    "                             max_length=140, min_len=55)\n",
    "tokenizer.decode(summary_ids.squeeze(), )"
   ]
  },
  {
   "cell_type": "markdown",
   "metadata": {},
   "source": [
    "`TODO(SS): output of above gets smushed into one line` it is really\n"
   ]
  },
  {
   "cell_type": "markdown",
   "metadata": {
    "ExecuteTime": {
     "end_time": "2020-03-07T22:48:05.433596Z",
     "start_time": "2020-03-07T22:48:01.245715Z"
    }
   },
   "source": [
    "**TODO**: get conditional generation working on GPT2 for this Doc. The following code just generates `eos`.\n",
    "```python\n",
    "from transformers import GPT2LMHeadModel, GPT2Tokenizer\n",
    "gpt2_tok = GPT2Tokenizer.from_pretrained('gpt2')\n",
    "gpt2_model = GPT2LMHeadModel.from_pretrained('gpt2')\n",
    "\n",
    "article_input_ids = gpt2_tok.batch_encode_plus([LONG_ARTICLE], return_tensors='pt', pad_to_max_length=False)['input_ids'].to(torch_device)\n",
    "summary_ids = gpt2_model.generate(article_input_ids, max_length=article_input_ids.shape[1] + 155, do_sample=False)\n",
    "gpt2_tok.decode(summary_ids.squeeze(), ).split('\\n')\n",
    "```"
   ]
  },
  {
   "cell_type": "markdown",
   "metadata": {},
   "source": [
    "One thing to notice in these two snippets: even though `BartForConditionalGeneration` is a seq2seq model, and `GPT2LMHeadModel` is not, they can invoked in similar ways for generation."
   ]
  },
  {
   "cell_type": "markdown",
   "metadata": {},
   "source": [
    "> Note: The same correspondence exists between `BartForSequenceClassification`  and all the other `*ForSequenceClassification` in `transformers`."
   ]
  },
  {
   "cell_type": "markdown",
   "metadata": {},
   "source": [
    "`BartModel` (and all it's children)'s full signature is a little more complex:\n",
    "```python\n",
    "def forward(\n",
    "    self,\n",
    "    input_ids,\n",
    "    attention_mask=None, # ignored pad tokens in input_ids\n",
    "    decoder_input_ids=None, # make these if not supplied\n",
    "    decoder_padding_mask=None, # ignored pad tokens in decoder_input_ids\n",
    "):\n",
    "```\n",
    "When we're doing summarization finetuning, or seq2seq pretraining, we need to take in the second sequence. \n",
    "When we're not, like in a classification context, you can safely ignore all the decoder kwargs and `BartModel` will make them for you by taking the input_ids (movie review) and shifting them to the right. \n",
    "\n",
    "The authors' [motivation](https://github.com/pytorch/fairseq/issues/1389) for that trick was to facilitate teacher forcing during pre-training, and now that the model has been trained on 64 TPUs for 12 weeks to process this input format, we continue the pattern during inference, but hide it inside the forward method."
   ]
  },
  {
   "cell_type": "markdown",
   "metadata": {},
   "source": [
    "## Incremental Decoding"
   ]
  },
  {
   "cell_type": "markdown",
   "metadata": {
    "ExecuteTime": {
     "end_time": "2020-03-07T04:03:37.743603Z",
     "start_time": "2020-03-07T04:03:37.737338Z"
    }
   },
   "source": [
    "When I first read the fairseq code, there was a function called `make_generation_fast` which didnt do much besides catch my eye. What an exciting name! \n",
    "Anyways, here is a really slow (pseudocode) way to greedily generate summaries\n",
    "    \n",
    "```python\n",
    "output_tokens = []\n",
    "while not done:\n",
    "     encoder_hidden_state = model.encoder(article_input_ids)\n",
    "     logits = model.decoder(encoder_hidden_state, output_tokens)\n",
    "     next_word = logits.argmax()\n",
    "     output_tokens.append(next_word)\n",
    "     if next_word == eos: break\n",
    "```"
   ]
  },
  {
   "cell_type": "markdown",
   "metadata": {
    "ExecuteTime": {
     "end_time": "2020-03-07T03:58:26.921905Z",
     "start_time": "2020-03-07T03:58:26.898646Z"
    }
   },
   "source": [
    "We can just cache the first step and save half the compute\n",
    "\n",
    "```python\n",
    "output_tokens = []\n",
    "encoder_hidden_state = model.encoder(article_input_ids)\n",
    "while not done:\n",
    "     logits = model.decoder(encoder_hidden_state, output_tokens)\n",
    "     next_word = logits.argmax()\n",
    "     \n",
    "     output_tokens.append(next_word)\n",
    "     if next_word == eos: break\n",
    "```\n",
    "Easy peasy, sorry for wasting your time. Here comes the fun one\n"
   ]
  },
  {
   "cell_type": "markdown",
   "metadata": {},
   "source": [
    "### Partially caching k and v in `DecoderLayer`\n",
    "\n",
    "\n",
    "\n",
    "Here is some pseudocode for attention without all the reshapes and heads and masks and scaling.\n",
    "\n",
    "\n",
    "```python\n",
    "class SimplifiedAttention(nn.Module):\n",
    "    def __init__(self, embed_dim):\n",
    "        self.Wq = torch.nn.Linear(embed_dim, embed_dim)\n",
    "        self.Wk = torch.nn.Linear(embed_dim, embed_dim)\n",
    "        self.Wv = torch.nn.Linear(embed_dim, embed_dim)\n",
    "        self.dense = torch.nn.Linear(embed_dim, embed_dim)\n",
    "    def forward(self, query, key, value):\n",
    "        q = self.Wq(q)\n",
    "        k = self.Wk(k) \n",
    "        v = self.Wv(v)\n",
    "        matmul_qk = torch.matmul(q, k.T)\n",
    "        attention_weights = matmul_qk.softmax(dim=-1)\n",
    "        output = torch.matmul(attention_weights, v)\n",
    "        return self.dense(output)\n",
    "```\n",
    "\n",
    "Now lets glimpse at the callers inside bart's `DecoderLayer`:\n",
    "(LayerNorms and dropouts deleted for simplicity). Here's some more pseudocode\n",
    "\n",
    "```python\n",
    "class SimplifiedDecoderLayer(nn.Module):\n",
    "    \n",
    "    def __init__(self, embed_dim):\n",
    "        self.self_attn = SimplifiedAttention(embed_dim)\n",
    "        self.encoder_attn = SimplifiedAttention(embed_dim)\n",
    "    def forward(x, last_encoder_hidden_state, *masks_etc):\n",
    "         # x shape `(batch_size, tokens_generated_so_far, embed_dim)`\n",
    "         # x comes from decoder\n",
    "\n",
    "        x = self.self_attn(query=x, key=x, value=x) # pay attention to somebody else for a change!\n",
    "        output = self.encoder_attn(\n",
    "            query=x,\n",
    "            key=last_encoder_hidden_state,  # could be None\n",
    "            value=last_encoder_hidden_state,\n",
    "        )\n",
    "        return output\n",
    "```\n",
    "\n",
    "What did we learn?\n",
    "\n",
    "\n",
    "- In `encoder_attention`, we can cache everything that doesn't depend on q, namely these outputs\n",
    "```\n",
    "        k = self.Wk(k) \n",
    "        v = self.Wv(v)\n",
    "```\n",
    "\n",
    "\n",
    "The more exciting optimization is that in `self_attn`, we can cache the part of k,v that depends on \n",
    "`x[:, :1]` the tokens we've already generated. Then each time through the generation loop, we only pass in `x[:, :-1]` and apply concatenation:\n",
    "\n",
    "```python\n",
    "k = torch.cat((past_key, new_k), dim='seq_len') # the seq_len dimension, \n",
    "v = torch.cat((past_value, new_v), dim='seq_len')\n",
    "```\n",
    "\n",
    "`TODO(SS): Why cant we cache part of q?`\n",
    "\n",
    "\n",
    "Of the 8 `F.linear` ops performed by each DecoderLayer was doing, we've managed to completely cache 2 of them, and almost completely cache 2 more. Overall, we chop off about 40% of the runtime. `TODO(SS): verify`."
   ]
  },
  {
   "cell_type": "markdown",
   "metadata": {},
   "source": [
    "### Conclusion\n",
    "Our first release of `BartModel` prioritized moving quickly and keeping the code simple. As a result, our implementation is about 30\\% slower and uses more memory than the authors'. Stay tuned for episode 2 of this series, where we try to close the gap."
   ]
  },
  {
   "cell_type": "markdown",
   "metadata": {
    "ExecuteTime": {
     "end_time": "2020-03-07T21:12:43.347020Z",
     "start_time": "2020-03-07T21:12:43.342222Z"
    }
   },
   "source": [
    "## Footnotes\n",
    "\n",
    "[^2] \"Text Summarization with Pretrained Encoders\" https://arxiv.org/abs/1908.08345\n",
    "\n",
    "[^3] Differences between the UniLM Masking strategy and Bart"
   ]
  },
  {
   "cell_type": "markdown",
   "metadata": {},
   "source": [
    "### Appendix\n",
    " ![](./bert_attn_mask.jpg)"
   ]
  },
  {
   "cell_type": "markdown",
   "metadata": {
    "ExecuteTime": {
     "end_time": "2020-03-06T20:36:21.344987Z",
     "start_time": "2020-03-06T20:36:21.226223Z"
    }
   },
   "source": [
    "![](./gpt2_mask.jpeg) \"Left-to-right mask. For a given token in the sequence, we assign a mask value of 0 for this token and the preceding ones; a value of minus infinity for the later ones. This pretty square can also be called and `causal_mask` autoregressive mask. (Picture Drawn by Remy Louf)\""
   ]
  },
  {
   "cell_type": "markdown",
   "metadata": {},
   "source": [
    "> Note \n",
    "Most of our other models do not make inputs for the user -- that's the tokenizer's job, but as the t5 authors write:\n",
    "\n",
    "> \"A major factor that differentiates the architectures is the mask used by different attention mechanisms in the model.\" \n"
   ]
  },
  {
   "cell_type": "code",
   "execution_count": null,
   "metadata": {},
   "outputs": [],
   "source": []
  }
 ],
 "metadata": {
  "hide_input": false,
  "kernelspec": {
   "display_name": "Python 3",
   "language": "python",
   "name": "python3"
  },
  "language_info": {
   "codemirror_mode": {
    "name": "ipython",
    "version": 3
   },
   "file_extension": ".py",
   "mimetype": "text/x-python",
   "name": "python",
   "nbconvert_exporter": "python",
   "pygments_lexer": "ipython3",
   "version": "3.7.5"
  }
 },
 "nbformat": 4,
 "nbformat_minor": 4
}
